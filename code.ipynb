{
 "cells": [
  {
   "cell_type": "code",
   "execution_count": 59,
   "metadata": {},
   "outputs": [],
   "source": [
    "import numpy as np\n",
    "import pandas as pd\n",
    "import tensorflow as tf\n",
    "import matplotlib.pyplot as plt"
   ]
  },
  {
   "cell_type": "code",
   "execution_count": 60,
   "metadata": {},
   "outputs": [
    {
     "data": {
      "text/html": [
       "<div>\n",
       "<style scoped>\n",
       "    .dataframe tbody tr th:only-of-type {\n",
       "        vertical-align: middle;\n",
       "    }\n",
       "\n",
       "    .dataframe tbody tr th {\n",
       "        vertical-align: top;\n",
       "    }\n",
       "\n",
       "    .dataframe thead th {\n",
       "        text-align: right;\n",
       "    }\n",
       "</style>\n",
       "<table border=\"1\" class=\"dataframe\">\n",
       "  <thead>\n",
       "    <tr style=\"text-align: right;\">\n",
       "      <th></th>\n",
       "      <th>label</th>\n",
       "      <th>pixel0</th>\n",
       "      <th>pixel1</th>\n",
       "      <th>pixel2</th>\n",
       "      <th>pixel3</th>\n",
       "      <th>pixel4</th>\n",
       "      <th>pixel5</th>\n",
       "      <th>pixel6</th>\n",
       "      <th>pixel7</th>\n",
       "      <th>pixel8</th>\n",
       "      <th>...</th>\n",
       "      <th>pixel774</th>\n",
       "      <th>pixel775</th>\n",
       "      <th>pixel776</th>\n",
       "      <th>pixel777</th>\n",
       "      <th>pixel778</th>\n",
       "      <th>pixel779</th>\n",
       "      <th>pixel780</th>\n",
       "      <th>pixel781</th>\n",
       "      <th>pixel782</th>\n",
       "      <th>pixel783</th>\n",
       "    </tr>\n",
       "  </thead>\n",
       "  <tbody>\n",
       "    <tr>\n",
       "      <th>0</th>\n",
       "      <td>1</td>\n",
       "      <td>0</td>\n",
       "      <td>0</td>\n",
       "      <td>0</td>\n",
       "      <td>0</td>\n",
       "      <td>0</td>\n",
       "      <td>0</td>\n",
       "      <td>0</td>\n",
       "      <td>0</td>\n",
       "      <td>0</td>\n",
       "      <td>...</td>\n",
       "      <td>0</td>\n",
       "      <td>0</td>\n",
       "      <td>0</td>\n",
       "      <td>0</td>\n",
       "      <td>0</td>\n",
       "      <td>0</td>\n",
       "      <td>0</td>\n",
       "      <td>0</td>\n",
       "      <td>0</td>\n",
       "      <td>0</td>\n",
       "    </tr>\n",
       "    <tr>\n",
       "      <th>1</th>\n",
       "      <td>0</td>\n",
       "      <td>0</td>\n",
       "      <td>0</td>\n",
       "      <td>0</td>\n",
       "      <td>0</td>\n",
       "      <td>0</td>\n",
       "      <td>0</td>\n",
       "      <td>0</td>\n",
       "      <td>0</td>\n",
       "      <td>0</td>\n",
       "      <td>...</td>\n",
       "      <td>0</td>\n",
       "      <td>0</td>\n",
       "      <td>0</td>\n",
       "      <td>0</td>\n",
       "      <td>0</td>\n",
       "      <td>0</td>\n",
       "      <td>0</td>\n",
       "      <td>0</td>\n",
       "      <td>0</td>\n",
       "      <td>0</td>\n",
       "    </tr>\n",
       "    <tr>\n",
       "      <th>2</th>\n",
       "      <td>1</td>\n",
       "      <td>0</td>\n",
       "      <td>0</td>\n",
       "      <td>0</td>\n",
       "      <td>0</td>\n",
       "      <td>0</td>\n",
       "      <td>0</td>\n",
       "      <td>0</td>\n",
       "      <td>0</td>\n",
       "      <td>0</td>\n",
       "      <td>...</td>\n",
       "      <td>0</td>\n",
       "      <td>0</td>\n",
       "      <td>0</td>\n",
       "      <td>0</td>\n",
       "      <td>0</td>\n",
       "      <td>0</td>\n",
       "      <td>0</td>\n",
       "      <td>0</td>\n",
       "      <td>0</td>\n",
       "      <td>0</td>\n",
       "    </tr>\n",
       "    <tr>\n",
       "      <th>3</th>\n",
       "      <td>4</td>\n",
       "      <td>0</td>\n",
       "      <td>0</td>\n",
       "      <td>0</td>\n",
       "      <td>0</td>\n",
       "      <td>0</td>\n",
       "      <td>0</td>\n",
       "      <td>0</td>\n",
       "      <td>0</td>\n",
       "      <td>0</td>\n",
       "      <td>...</td>\n",
       "      <td>0</td>\n",
       "      <td>0</td>\n",
       "      <td>0</td>\n",
       "      <td>0</td>\n",
       "      <td>0</td>\n",
       "      <td>0</td>\n",
       "      <td>0</td>\n",
       "      <td>0</td>\n",
       "      <td>0</td>\n",
       "      <td>0</td>\n",
       "    </tr>\n",
       "    <tr>\n",
       "      <th>4</th>\n",
       "      <td>0</td>\n",
       "      <td>0</td>\n",
       "      <td>0</td>\n",
       "      <td>0</td>\n",
       "      <td>0</td>\n",
       "      <td>0</td>\n",
       "      <td>0</td>\n",
       "      <td>0</td>\n",
       "      <td>0</td>\n",
       "      <td>0</td>\n",
       "      <td>...</td>\n",
       "      <td>0</td>\n",
       "      <td>0</td>\n",
       "      <td>0</td>\n",
       "      <td>0</td>\n",
       "      <td>0</td>\n",
       "      <td>0</td>\n",
       "      <td>0</td>\n",
       "      <td>0</td>\n",
       "      <td>0</td>\n",
       "      <td>0</td>\n",
       "    </tr>\n",
       "  </tbody>\n",
       "</table>\n",
       "<p>5 rows × 785 columns</p>\n",
       "</div>"
      ],
      "text/plain": [
       "   label  pixel0  pixel1  pixel2  pixel3  pixel4  pixel5  pixel6  pixel7  \\\n",
       "0      1       0       0       0       0       0       0       0       0   \n",
       "1      0       0       0       0       0       0       0       0       0   \n",
       "2      1       0       0       0       0       0       0       0       0   \n",
       "3      4       0       0       0       0       0       0       0       0   \n",
       "4      0       0       0       0       0       0       0       0       0   \n",
       "\n",
       "   pixel8  ...  pixel774  pixel775  pixel776  pixel777  pixel778  pixel779  \\\n",
       "0       0  ...         0         0         0         0         0         0   \n",
       "1       0  ...         0         0         0         0         0         0   \n",
       "2       0  ...         0         0         0         0         0         0   \n",
       "3       0  ...         0         0         0         0         0         0   \n",
       "4       0  ...         0         0         0         0         0         0   \n",
       "\n",
       "   pixel780  pixel781  pixel782  pixel783  \n",
       "0         0         0         0         0  \n",
       "1         0         0         0         0  \n",
       "2         0         0         0         0  \n",
       "3         0         0         0         0  \n",
       "4         0         0         0         0  \n",
       "\n",
       "[5 rows x 785 columns]"
      ]
     },
     "execution_count": 60,
     "metadata": {},
     "output_type": "execute_result"
    }
   ],
   "source": [
    "# https://www.kaggle.com/c/digit-recognizer\n",
    "\n",
    "df = pd.read_csv('data/train.csv')\n",
    "df.head()"
   ]
  },
  {
   "cell_type": "code",
   "execution_count": 61,
   "metadata": {},
   "outputs": [],
   "source": [
    "train_data = df.values\n",
    "np.random.shuffle(train_data)\n",
    "X = train_data[:, 1:].reshape(-1, 28, 28) / 255.0\n",
    "Y = train_data[:, 0]\n",
    "\n",
    "\n",
    "# X = df.iloc[:, 1:].values.reshape(-1, 28, 28) / 255.0\n",
    "# Y = df.iloc[:, 0].values"
   ]
  },
  {
   "cell_type": "code",
   "execution_count": 62,
   "metadata": {},
   "outputs": [],
   "source": [
    "from tensorflow.keras.models import Model\n",
    "from tensorflow.keras.layers import LSTM, Input, Dense, GlobalMaxPooling1D, Bidirectional, Lambda, Concatenate\n",
    "import tensorflow.keras.backend as k\n",
    "# try:\n",
    "#     if len(tensorflow.keras.tensorflow_backend._get_available_gpus()) > 0:\n",
    "#         from tensorflow.keras.layers import CuDNNLSTM as LSTM\n",
    "# except:\n",
    "#     pass"
   ]
  },
  {
   "cell_type": "code",
   "execution_count": 63,
   "metadata": {},
   "outputs": [
    {
     "name": "stdout",
     "output_type": "stream",
     "text": [
      "Model: \"model_2\"\n",
      "__________________________________________________________________________________________________\n",
      " Layer (type)                Output Shape                 Param #   Connected to                  \n",
      "==================================================================================================\n",
      " input_7 (InputLayer)        [(None, 28, 28)]             0         []                            \n",
      "                                                                                                  \n",
      " lambda_6 (Lambda)           (None, 28, 28)               0         ['input_7[0][0]']             \n",
      "                                                                                                  \n",
      " bidirectional_8 (Bidirecti  (None, 28, 30)               5280      ['input_7[0][0]']             \n",
      " onal)                                                                                            \n",
      "                                                                                                  \n",
      " bidirectional_9 (Bidirecti  (None, 28, 30)               5280      ['lambda_6[0][0]']            \n",
      " onal)                                                                                            \n",
      "                                                                                                  \n",
      " global_max_pooling1d_8 (Gl  (None, 30)                   0         ['bidirectional_8[0][0]']     \n",
      " obalMaxPooling1D)                                                                                \n",
      "                                                                                                  \n",
      " global_max_pooling1d_9 (Gl  (None, 30)                   0         ['bidirectional_9[0][0]']     \n",
      " obalMaxPooling1D)                                                                                \n",
      "                                                                                                  \n",
      " concatenate_2 (Concatenate  (None, 60)                   0         ['global_max_pooling1d_8[0][0]\n",
      " )                                                                  ',                            \n",
      "                                                                     'global_max_pooling1d_9[0][0]\n",
      "                                                                    ']                            \n",
      "                                                                                                  \n",
      " dense_2 (Dense)             (None, 10)                   610       ['concatenate_2[0][0]']       \n",
      "                                                                                                  \n",
      "==================================================================================================\n",
      "Total params: 11170 (43.63 KB)\n",
      "Trainable params: 11170 (43.63 KB)\n",
      "Non-trainable params: 0 (0.00 Byte)\n",
      "__________________________________________________________________________________________________\n"
     ]
    }
   ],
   "source": [
    "input_layer = Input(shape = (28, 28))\n",
    "rnn_layer_1 = Bidirectional(LSTM(15, return_sequences = True))(input_layer)\n",
    "pool_layer_1 = GlobalMaxPooling1D()(rnn_layer_1)\n",
    "\n",
    "permuter = Lambda(lambda x: k.permute_dimensions(x, pattern = (0, 2, 1)))\n",
    "\n",
    "permute_layer = permuter(input_layer)\n",
    "rnn_layer_2 = Bidirectional(LSTM(15, return_sequences = True))(permute_layer)\n",
    "pool_layer_2 = GlobalMaxPooling1D()(rnn_layer_2)\n",
    "\n",
    "concatenater = Concatenate(axis = 1)\n",
    "concate_layer = concatenater([pool_layer_1, pool_layer_2])\n",
    "\n",
    "output_layer = Dense(10, activation = 'softmax')(concate_layer)\n",
    "\n",
    "model = Model(input_layer, output_layer)\n",
    "model.summary()"
   ]
  },
  {
   "cell_type": "code",
   "execution_count": 64,
   "metadata": {},
   "outputs": [],
   "source": [
    "model.compile(loss = 'sparse_categorical_crossentropy', optimizer = 'adam', metrics = ['accuracy'])"
   ]
  },
  {
   "cell_type": "code",
   "execution_count": 65,
   "metadata": {},
   "outputs": [
    {
     "name": "stdout",
     "output_type": "stream",
     "text": [
      "Epoch 1/10\n",
      "985/985 [==============================] - 14s 9ms/step - loss: 0.7837 - accuracy: 0.8053 - val_loss: 0.3195 - val_accuracy: 0.9156\n",
      "Epoch 2/10\n",
      "985/985 [==============================] - 8s 9ms/step - loss: 0.2559 - accuracy: 0.9308 - val_loss: 0.2134 - val_accuracy: 0.9422\n",
      "Epoch 3/10\n",
      "985/985 [==============================] - 9s 9ms/step - loss: 0.1804 - accuracy: 0.9494 - val_loss: 0.1746 - val_accuracy: 0.9496\n",
      "Epoch 4/10\n",
      "985/985 [==============================] - 10s 10ms/step - loss: 0.1439 - accuracy: 0.9587 - val_loss: 0.1424 - val_accuracy: 0.9579\n",
      "Epoch 5/10\n",
      "985/985 [==============================] - 9s 9ms/step - loss: 0.1257 - accuracy: 0.9636 - val_loss: 0.1343 - val_accuracy: 0.9604\n",
      "Epoch 6/10\n",
      "985/985 [==============================] - 8s 8ms/step - loss: 0.1069 - accuracy: 0.9677 - val_loss: 0.1177 - val_accuracy: 0.9655\n",
      "Epoch 7/10\n",
      "985/985 [==============================] - 9s 9ms/step - loss: 0.0949 - accuracy: 0.9711 - val_loss: 0.1093 - val_accuracy: 0.9676\n",
      "Epoch 8/10\n",
      "985/985 [==============================] - 8s 8ms/step - loss: 0.0863 - accuracy: 0.9752 - val_loss: 0.0969 - val_accuracy: 0.9713\n",
      "Epoch 9/10\n",
      "985/985 [==============================] - 9s 9ms/step - loss: 0.0759 - accuracy: 0.9772 - val_loss: 0.0871 - val_accuracy: 0.9739\n",
      "Epoch 10/10\n",
      "985/985 [==============================] - 10s 10ms/step - loss: 0.0722 - accuracy: 0.9783 - val_loss: 0.0908 - val_accuracy: 0.9717\n"
     ]
    }
   ],
   "source": [
    "r = model.fit(X, Y, batch_size = 32, epochs = 10, validation_split = 0.25)"
   ]
  },
  {
   "cell_type": "code",
   "execution_count": 66,
   "metadata": {},
   "outputs": [
    {
     "data": {
      "image/png": "[encoded data removed]",
      "text/plain": [
       "<Figure size 640x480 with 1 Axes>"
      ]
     },
     "metadata": {},
     "output_type": "display_data"
    }
   ],
   "source": [
    "plt.plot(r.history['loss'], label='loss')\n",
    "plt.plot(r.history['val_loss'], label='val_loss')\n",
    "plt.legend()\n",
    "plt.show()"
   ]
  },
  {
   "cell_type": "code",
   "execution_count": 67,
   "metadata": {},
   "outputs": [
    {
     "data": {
      "image/png": "[encoded data removed]",
      "text/plain": [
       "<Figure size 640x480 with 1 Axes>"
      ]
     },
     "metadata": {},
     "output_type": "display_data"
    }
   ],
   "source": [
    "plt.plot(r.history['accuracy'], label='acc')\n",
    "plt.plot(r.history['val_accuracy'], label='val_acc')\n",
    "plt.legend()\n",
    "plt.show()"
   ]
  }
 ],
 "metadata": {
  "kernelspec": {
   "display_name": "Python 3",
   "language": "python",
   "name": "python3"
  },
  "language_info": {
   "codemirror_mode": {
    "name": "ipython",
    "version": 3
   },
   "file_extension": ".py",
   "mimetype": "text/x-python",
   "name": "python",
   "nbconvert_exporter": "python",
   "pygments_lexer": "ipython3",
   "version": "3.11.8"
  }
 },
 "nbformat": 4,
 "nbformat_minor": 2
}
